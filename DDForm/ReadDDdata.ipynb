{
 "cells": [
  {
   "cell_type": "code",
   "execution_count": 1,
   "id": "4337e094-9689-4e01-9290-448b975f3765",
   "metadata": {},
   "outputs": [],
   "source": [
    "import os\n",
    "import pdftotext\n",
    "import re\n",
    "from openpyxl import Workbook\n",
    "\n",
    "# Define regular expressions to match the data\n",
    "name_regex = r'Account holder’s name:\\s*(.*)'\n",
    "routing_regex = r'Routing/Transit Number \\(9 digits\\):\\s*(\\d{1,9})'\n",
    "account_regex = r'Checking/Savings Account Number \\(17 digits\\):\\s*(\\d{1,17})'\n",
    "\n",
    "# Create a new workbook and select the active worksheet\n",
    "wb = Workbook()\n",
    "sheet = wb.active\n",
    "\n",
    "# Add headers to the worksheet\n",
    "sheet.append(['Filename', 'Account holder\\'s name', 'Routing/Transit Number', 'Checking/Savings Account Number'])\n",
    "\n",
    "# Loop through all the PDF files in the directory\n",
    "pdf_dir = r'C:/Users/Yuxiang Wu/Desktop/SAMSHA/DDForm/'\n",
    "for filename in os.listdir(pdf_dir):\n",
    "    if filename.endswith('.pdf'):\n",
    "        # Open the PDF file\n",
    "        with open(os.path.join(pdf_dir, filename), 'rb') as f:\n",
    "            # Load the PDF into pdftotext\n",
    "            pdf = pdftotext.PDF(f)\n",
    "\n",
    "        # Extract the text from the first page of the PDF\n",
    "        text = pdf[0]\n",
    "\n",
    "        # Extract the data using regular expressions\n",
    "        name_match = re.search(name_regex, text)\n",
    "        routing_match = re.search(routing_regex, text)\n",
    "        account_match = re.search(account_regex, text)\n",
    "\n",
    "        # Get the matched data or set to None if not found\n",
    "        name = name_match.group(1) if name_match else None\n",
    "        routing = routing_match.group(1) if routing_match else None\n",
    "        account = account_match.group(1) if account_match else None\n",
    "\n",
    "        # Add the data to the worksheet\n",
    "        sheet.append([filename, name, routing, account])\n",
    "\n",
    "# Save the workbook\n",
    "wb.save(r'C:/Users/Yuxiang Wu/Desktop/SAMSHA/DDForm/accounts.xlsx')\n"
   ]
  },
  {
   "cell_type": "code",
   "execution_count": null,
   "id": "0be29901-fe10-4510-ad2c-9dd31fe940ac",
   "metadata": {},
   "outputs": [],
   "source": []
  }
 ],
 "metadata": {
  "kernelspec": {
   "display_name": "Python 3 (ipykernel)",
   "language": "python",
   "name": "python3"
  },
  "language_info": {
   "codemirror_mode": {
    "name": "ipython",
    "version": 3
   },
   "file_extension": ".py",
   "mimetype": "text/x-python",
   "name": "python",
   "nbconvert_exporter": "python",
   "pygments_lexer": "ipython3",
   "version": "3.10.9"
  }
 },
 "nbformat": 4,
 "nbformat_minor": 5
}
