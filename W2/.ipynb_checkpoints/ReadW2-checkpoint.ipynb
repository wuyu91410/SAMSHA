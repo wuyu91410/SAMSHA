{
 "cells": [
  {
   "cell_type": "code",
   "execution_count": 45,
   "id": "2a02803b-129e-4f01-a87e-2f97de7b2d32",
   "metadata": {},
   "outputs": [],
   "source": [
    "import pdftotext\n",
    "import pandas as pd\n",
    "\n",
    "# Open the PDF file\n",
    "with open('Tax1099_test.pdf', 'rb') as f:\n",
    "    # Load the PDF into pdftotext\n",
    "    pdf = pdftotext.PDF(f)\n",
    "\n",
    "# Extract the text from the first page of the PDF\n",
    "text = pdf[0]\n",
    "\n",
    "# Split the text into lines\n",
    "lines = text.split('\\n')\n",
    "\n",
    "# Create an empty dictionary to store the extracted data\n",
    "data = {}\n",
    "\n",
    "# Loop over the lines and extract the data\n",
    "for i in range(len(lines)):\n",
    "    if 'Name (as shown on your income tax return)' in lines[i]:\n",
    "        data['Name'] = lines[i+2].replace('\\r', '')\n",
    "    elif 'Business name/disregarded entity name' in lines[i]:\n",
    "        data['Business Name'] = lines[i+2].replace('\\r', '')\n",
    "    elif 'Address (number, street, and apt. or suite no.)' in lines[i]:\n",
    "        data['Address'] = lines[i+6].replace('\\r', '')+', '+lines[i+9].replace('\\r', '')        \n",
    "    elif 'Employer identification number' in lines[i]:\n",
    "        ein = lines[i+2].replace('\\r', '')+lines[i+4].replace('\\r', '')+lines[i+6].replace('\\r', '')+lines[i+8].replace('\\r', '')+lines[i+10].replace('\\r', '')+lines[i+12].replace('\\r', '')+lines[i+14].replace('\\r', '')+lines[i+16].replace('\\r', '')\n",
    "        # Remove any spaces or dashes from the EIN field\n",
    "        ein = ein.replace(' ', '').replace('-', '')\n",
    "        data['EIN'] = ein\n",
    "    \n",
    "\n",
    "# Convert the data dictionary to a pandas DataFrame\n",
    "df = pd.DataFrame([data])\n",
    "\n",
    "\n",
    "# Save the DataFrame to an Excel spreadsheet\n",
    "df.to_excel('W9_Form_Data.xlsx', index=False)"
   ]
  },
  {
   "cell_type": "code",
   "execution_count": 1,
   "id": "878a6dd9-0b91-43f7-8e51-f11614de1ad1",
   "metadata": {},
   "outputs": [
    {
     "ename": "SyntaxError",
     "evalue": "(unicode error) 'unicodeescape' codec can't decode bytes in position 2-3: truncated \\UXXXXXXXX escape (384535429.py, line 6)",
     "output_type": "error",
     "traceback": [
      "\u001b[1;36m  Cell \u001b[1;32mIn[1], line 6\u001b[1;36m\u001b[0m\n\u001b[1;33m    dir_path = 'C:\\Users\\Yuxiang Wu\\Desktop/SAMSHA/W2'\u001b[0m\n\u001b[1;37m                                                      ^\u001b[0m\n\u001b[1;31mSyntaxError\u001b[0m\u001b[1;31m:\u001b[0m (unicode error) 'unicodeescape' codec can't decode bytes in position 2-3: truncated \\UXXXXXXXX escape\n"
     ]
    }
   ],
   "source": [
    "import os\n",
    "import pdftotext\n",
    "import pandas as pd\n",
    "\n",
    "# Set the directory path for the PDF files\n",
    "dir_path = 'C:/Users/Yuxiang Wu/Desktop/SAMSHA/W2'\n",
    "\n",
    "# Create an empty list to store the extracted data\n",
    "all_data = []\n",
    "\n",
    "# Loop over the PDF files in the directory\n",
    "for filename in os.listdir(dir_path):\n",
    "    if filename.endswith('.pdf'):\n",
    "        # Open the PDF file\n",
    "        with open(os.path.join(dir_path, filename), 'rb') as f:\n",
    "            # Load the PDF into pdftotext\n",
    "            pdf = pdftotext.PDF(f)\n",
    "\n",
    "        # Extract the text from the first page of the PDF\n",
    "        text = pdf[0]\n",
    "\n",
    "        # Split the text into lines\n",
    "        lines = text.split('\\n')\n",
    "\n",
    "        # Create an empty dictionary to store the extracted data\n",
    "        data = {}\n",
    "\n",
    "        # Loop over the lines and extract the data\n",
    "        for i in range(len(lines)):\n",
    "            if 'Name (as shown on your income tax return)' in lines[i]:\n",
    "                data['Name'] = lines[i+2].replace('\\r', '')\n",
    "            elif 'Business name/disregarded entity name' in lines[i]:\n",
    "                data['Business Name'] = lines[i+2].replace('\\r', '')\n",
    "            elif 'Address (number, street, and apt. or suite no.)' in lines[i]:\n",
    "                data['Address'] = lines[i+6].replace('\\r', '')+', '+lines[i+9].replace('\\r', '')        \n",
    "            elif 'Employer identification number' in lines[i]:\n",
    "                ein = lines[i+2].replace('\\r', '')+lines[i+4].replace('\\r', '')+lines[i+6].replace('\\r', '')+lines[i+8].replace('\\r', '')+lines[i+10].replace('\\r', '')+lines[i+12].replace('\\r', '')+lines[i+14].replace('\\r', '')+lines[i+16].replace('\\r', '')\n",
    "                # Remove any spaces or dashes from the EIN field\n",
    "                ein = ein.replace(' ', '').replace('-', '')\n",
    "                data['EIN'] = ein\n",
    "\n",
    "        # Append the extracted data to the list\n",
    "        all_data.append(data)\n",
    "\n",
    "# Convert the list of dictionaries to a pandas DataFrame\n",
    "df = pd.DataFrame(all_data)\n",
    "\n",
    "# Save the DataFrame to an Excel spreadsheet\n",
    "df.to_excel('W9_Form_Data.xlsx', index=False)\n"
   ]
  },
  {
   "cell_type": "code",
   "execution_count": null,
   "id": "448eca3a-3099-4808-92f5-9a2e94fcde1f",
   "metadata": {},
   "outputs": [],
   "source": []
  }
 ],
 "metadata": {
  "kernelspec": {
   "display_name": "Python 3 (ipykernel)",
   "language": "python",
   "name": "python3"
  },
  "language_info": {
   "codemirror_mode": {
    "name": "ipython",
    "version": 3
   },
   "file_extension": ".py",
   "mimetype": "text/x-python",
   "name": "python",
   "nbconvert_exporter": "python",
   "pygments_lexer": "ipython3",
   "version": "3.10.9"
  }
 },
 "nbformat": 4,
 "nbformat_minor": 5
}
